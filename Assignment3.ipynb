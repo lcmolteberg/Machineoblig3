{
  "nbformat": 4,
  "nbformat_minor": 0,
  "metadata": {
    "colab": {
      "provenance": [],
      "authorship_tag": "ABX9TyMgan2nWOY8fa6qSKNzqlO5",
      "include_colab_link": true
    },
    "kernelspec": {
      "name": "python3",
      "display_name": "Python 3"
    },
    "language_info": {
      "name": "python"
    }
  },
  "cells": [
    {
      "cell_type": "markdown",
      "metadata": {
        "id": "view-in-github",
        "colab_type": "text"
      },
      "source": [
        "<a href=\"https://colab.research.google.com/github/lcmolteberg/Machineoblig3/blob/main/Assignment3.ipynb\" target=\"_parent\"><img src=\"https://colab.research.google.com/assets/colab-badge.svg\" alt=\"Open In Colab\"/></a>"
      ]
    },
    {
      "cell_type": "markdown",
      "source": [
        "## Assignemnt 3\n",
        "### Exercise-1: Training Deep Neural Network on MNIST"
      ],
      "metadata": {
        "id": "weLIme_CjQkg"
      }
    },
    {
      "cell_type": "code",
      "source": [
        "!pip install pytorch-ignite"
      ],
      "metadata": {
        "id": "BV8upAm8woID",
        "outputId": "03a6160a-21ea-45ee-d0d9-a929dfa5e2ed",
        "colab": {
          "base_uri": "https://localhost:8080/"
        }
      },
      "execution_count": 13,
      "outputs": [
        {
          "output_type": "stream",
          "name": "stdout",
          "text": [
            "Requirement already satisfied: pytorch-ignite in /usr/local/lib/python3.12/dist-packages (0.5.3)\n",
            "Requirement already satisfied: packaging in /usr/local/lib/python3.12/dist-packages (from pytorch-ignite) (25.0)\n",
            "Requirement already satisfied: torch<3,>=1.10 in /usr/local/lib/python3.12/dist-packages (from pytorch-ignite) (2.8.0+cu126)\n",
            "Requirement already satisfied: filelock in /usr/local/lib/python3.12/dist-packages (from torch<3,>=1.10->pytorch-ignite) (3.20.0)\n",
            "Requirement already satisfied: typing-extensions>=4.10.0 in /usr/local/lib/python3.12/dist-packages (from torch<3,>=1.10->pytorch-ignite) (4.15.0)\n",
            "Requirement already satisfied: setuptools in /usr/local/lib/python3.12/dist-packages (from torch<3,>=1.10->pytorch-ignite) (75.2.0)\n",
            "Requirement already satisfied: sympy>=1.13.3 in /usr/local/lib/python3.12/dist-packages (from torch<3,>=1.10->pytorch-ignite) (1.13.3)\n",
            "Requirement already satisfied: networkx in /usr/local/lib/python3.12/dist-packages (from torch<3,>=1.10->pytorch-ignite) (3.5)\n",
            "Requirement already satisfied: jinja2 in /usr/local/lib/python3.12/dist-packages (from torch<3,>=1.10->pytorch-ignite) (3.1.6)\n",
            "Requirement already satisfied: fsspec in /usr/local/lib/python3.12/dist-packages (from torch<3,>=1.10->pytorch-ignite) (2025.3.0)\n",
            "Requirement already satisfied: nvidia-cuda-nvrtc-cu12==12.6.77 in /usr/local/lib/python3.12/dist-packages (from torch<3,>=1.10->pytorch-ignite) (12.6.77)\n",
            "Requirement already satisfied: nvidia-cuda-runtime-cu12==12.6.77 in /usr/local/lib/python3.12/dist-packages (from torch<3,>=1.10->pytorch-ignite) (12.6.77)\n",
            "Requirement already satisfied: nvidia-cuda-cupti-cu12==12.6.80 in /usr/local/lib/python3.12/dist-packages (from torch<3,>=1.10->pytorch-ignite) (12.6.80)\n",
            "Requirement already satisfied: nvidia-cudnn-cu12==9.10.2.21 in /usr/local/lib/python3.12/dist-packages (from torch<3,>=1.10->pytorch-ignite) (9.10.2.21)\n",
            "Requirement already satisfied: nvidia-cublas-cu12==12.6.4.1 in /usr/local/lib/python3.12/dist-packages (from torch<3,>=1.10->pytorch-ignite) (12.6.4.1)\n",
            "Requirement already satisfied: nvidia-cufft-cu12==11.3.0.4 in /usr/local/lib/python3.12/dist-packages (from torch<3,>=1.10->pytorch-ignite) (11.3.0.4)\n",
            "Requirement already satisfied: nvidia-curand-cu12==10.3.7.77 in /usr/local/lib/python3.12/dist-packages (from torch<3,>=1.10->pytorch-ignite) (10.3.7.77)\n",
            "Requirement already satisfied: nvidia-cusolver-cu12==11.7.1.2 in /usr/local/lib/python3.12/dist-packages (from torch<3,>=1.10->pytorch-ignite) (11.7.1.2)\n",
            "Requirement already satisfied: nvidia-cusparse-cu12==12.5.4.2 in /usr/local/lib/python3.12/dist-packages (from torch<3,>=1.10->pytorch-ignite) (12.5.4.2)\n",
            "Requirement already satisfied: nvidia-cusparselt-cu12==0.7.1 in /usr/local/lib/python3.12/dist-packages (from torch<3,>=1.10->pytorch-ignite) (0.7.1)\n",
            "Requirement already satisfied: nvidia-nccl-cu12==2.27.3 in /usr/local/lib/python3.12/dist-packages (from torch<3,>=1.10->pytorch-ignite) (2.27.3)\n",
            "Requirement already satisfied: nvidia-nvtx-cu12==12.6.77 in /usr/local/lib/python3.12/dist-packages (from torch<3,>=1.10->pytorch-ignite) (12.6.77)\n",
            "Requirement already satisfied: nvidia-nvjitlink-cu12==12.6.85 in /usr/local/lib/python3.12/dist-packages (from torch<3,>=1.10->pytorch-ignite) (12.6.85)\n",
            "Requirement already satisfied: nvidia-cufile-cu12==1.11.1.6 in /usr/local/lib/python3.12/dist-packages (from torch<3,>=1.10->pytorch-ignite) (1.11.1.6)\n",
            "Requirement already satisfied: triton==3.4.0 in /usr/local/lib/python3.12/dist-packages (from torch<3,>=1.10->pytorch-ignite) (3.4.0)\n",
            "Requirement already satisfied: mpmath<1.4,>=1.1.0 in /usr/local/lib/python3.12/dist-packages (from sympy>=1.13.3->torch<3,>=1.10->pytorch-ignite) (1.3.0)\n",
            "Requirement already satisfied: MarkupSafe>=2.0 in /usr/local/lib/python3.12/dist-packages (from jinja2->torch<3,>=1.10->pytorch-ignite) (3.0.3)\n"
          ]
        }
      ]
    },
    {
      "cell_type": "code",
      "source": [
        "import sys\n",
        "\n",
        "assert sys.version_info >= (3, 7)"
      ],
      "metadata": {
        "id": "YtsTGdNLjQNy"
      },
      "execution_count": 63,
      "outputs": []
    },
    {
      "cell_type": "code",
      "source": [
        "from packaging import version\n",
        "import torch\n",
        "import torch.nn as nn\n",
        "import torch.optim as optim\n",
        "from torch.utils.data import DataLoader, Subset, random_split\n",
        "from torchvision import datasets, transforms\n",
        "import numpy as np\n",
        "import random\n",
        "import matplotlib.pyplot as plt\n",
        "from ignite.metrics import Accuracy, Loss, RunningAverage\n",
        "from ignite.contrib.handlers import ProgressBar\n",
        "\n",
        "assert version.parse(tf.__version__) >= version.parse(\"2.8.0\")"
      ],
      "metadata": {
        "id": "AhFfmVWxkIo4"
      },
      "execution_count": 64,
      "outputs": []
    },
    {
      "cell_type": "code",
      "source": [
        "# Seed\n",
        "seed = 42\n",
        "torch.manual_seed(seed)\n",
        "np.random.seed(seed)\n",
        "random.seed(seed)\n",
        "torch.cuda.manual_seed_all(seed)\n",
        "\n",
        "device = torch.device(\"cuda\" if torch.cuda.is_available() else \"cpu\")\n",
        "print(\"Using device:\", device)\n"
      ],
      "metadata": {
        "id": "tsb5eVvjkufq",
        "colab": {
          "base_uri": "https://localhost:8080/"
        },
        "outputId": "413de2b5-cffc-4fb0-828d-5cf7e5401e6f"
      },
      "execution_count": 65,
      "outputs": [
        {
          "output_type": "stream",
          "name": "stdout",
          "text": [
            "Using device: cpu\n"
          ]
        }
      ]
    },
    {
      "cell_type": "code",
      "source": [
        "# Dataset\n",
        "tfm = transforms.Compose([\n",
        "    transforms.ToTensor(),\n",
        "    transforms.Normalize(mean=(0.5,), std=(0.5,))\n",
        "])\n",
        "train_set = datasets.MNIST(\"./data\", train=True, transform=tfm, download=True)\n",
        "test_set = datasets.MNIST(\"./data\", train=False, transform=tfm, download=True)\n",
        "\n",
        "# 1000 train and 200 test\n",
        "n_train = 1000\n",
        "n_test = 200\n",
        "\n",
        "train_subset = Subset(train_set, np.arange(n_train))\n",
        "test_subset = Subset(test_set, np.arange(n_test))\n",
        "\n",
        "val_size = 200\n",
        "train_size = n_train - val_size\n",
        "train_subset, val_subset = random_split(\n",
        "    train_subset, [train_size, val_size],\n",
        "    generator=torch.Generator().manual_seed(seed)\n",
        ")\n",
        "\n",
        "batch_size = 32\n",
        "train_loader = DataLoader(train_subset, batch_size, shuffle=True)\n",
        "val_loader = DataLoader(val_subset, batch_size, shuffle=False)\n",
        "test_loader = DataLoader(test_subset, batch_size)"
      ],
      "metadata": {
        "id": "ZbDiT3U4njo6"
      },
      "execution_count": 66,
      "outputs": []
    },
    {
      "cell_type": "code",
      "source": [
        "# Model\n",
        "\n",
        "class DNN(nn.Module):\n",
        "    def __init__(self):\n",
        "        super().__init__()\n",
        "        self.flatten = nn.Flatten()\n",
        "        self.net = nn.Sequential(\n",
        "            nn.Linear(28*28, 64),\n",
        "            nn.ELU(),\n",
        "            nn.Linear(64, 64),\n",
        "            nn.ELU(),\n",
        "            nn.Linear(64, 64),\n",
        "            nn.ELU(),\n",
        "            nn.Linear(64, 10)\n",
        "        )\n",
        "        self._init_weights()\n",
        "\n",
        "    def _init_weights(self):\n",
        "        for m in self.modules():\n",
        "            if isinstance(m, nn.Linear):\n",
        "                nn.init.kaiming_normal_(m.weight, nonlinearity='relu')\n",
        "                if m.bias is not None:\n",
        "                    nn.init.zeros_(m.bias)\n",
        "\n",
        "    def forward(self, x):\n",
        "        x = self.flatten(x)\n",
        "        x = self.net(x)\n",
        "        return x\n",
        "\n",
        "model = DNN().to(device)\n"
      ],
      "metadata": {
        "id": "9J8gTyP-rtRT"
      },
      "execution_count": 67,
      "outputs": []
    },
    {
      "cell_type": "code",
      "source": [
        "# Optimizer\n",
        "\n",
        "optimizer = optim.NAdam(model.parameters(), lr=1e-3)\n",
        "loss_fn = nn.CrossEntropyLoss()\n",
        "\n",
        "trainer = create_supervised_trainer(model, optimizer, loss_fn, device=device)\n",
        "evaluator = create_supervised_evaluator(\n",
        "    model, metrics={'accuracy': Accuracy(), 'loss': Loss(loss_fn)}, device=device\n",
        ")\n",
        "\n",
        "# --- enkel train-loss logging uten ekstra pass ---\n",
        "RunningAverage(output_transform=lambda out: out).attach(trainer, \"train_loss\")\n",
        "\n",
        "# --- EarlyStopping: høyere score = bedre, så returner -val_loss ---\n",
        "def score_function(engine):\n",
        "    return -engine.state.metrics['loss']\n",
        "\n",
        "early_stop = EarlyStopping(patience=5, score_function=score_function, trainer=trainer)\n",
        "# Viktig: kobles til EVALUATOR, og evaluator MÅ kjøres hver epoke\n",
        "evaluator.add_event_handler(Events.COMPLETED, early_stop)\n",
        "\n",
        "# --- historikk for plotting ---\n",
        "train_losses, val_losses = [], []\n",
        "\n",
        "@trainer.on(Events.EPOCH_COMPLETED)\n",
        "def validate_and_log(engine):\n",
        "    # 1) train loss for epoken (fra RunningAverage på trainer)\n",
        "    train_loss = trainer.state.metrics['train_loss']\n",
        "\n",
        "    # 2) kjør validering – dette TRIGGER early stopping handleren over\n",
        "    evaluator.run(val_loader)\n",
        "    val_loss = evaluator.state.metrics['loss']\n",
        "\n",
        "    train_losses.append(train_loss)\n",
        "    val_losses.append(val_loss)\n",
        "\n",
        "    print(f\"Epoch {engine.state.epoch:02d}: Train {train_loss:.4f}, Val {val_loss:.4f}\")\n",
        "\n",
        "# --- tren (ES kan stoppe før 50) ---\n",
        "trainer.run(train_loader, max_epochs=50)\n",
        "\n",
        "# --- plot ---\n",
        "import matplotlib.pyplot as plt\n",
        "plt.figure(figsize=(8,5))\n",
        "epochs = range(1, len(train_losses)+1)\n",
        "plt.plot(epochs, train_losses, marker='o', label='Training Loss')\n",
        "plt.plot(epochs, val_losses,   marker='o', label='Validation Loss')\n",
        "plt.xlabel('Epoch'); plt.ylabel('Loss'); plt.title('Training and Validation Loss')\n",
        "plt.legend(); plt.grid(True); plt.show()\n",
        "\n",
        "# --- test ---\n",
        "evaluator.run(test_loader)\n",
        "m = evaluator.state.metrics\n",
        "print(f\"Test set — loss: {m['loss']:.4f}, accuracy: {m['accuracy']:.4f}\")\n",
        "print(f\"Final Test Accuracy: {m['accuracy']*100:.2f}%\")\n",
        "\n",
        "\n"
      ],
      "metadata": {
        "colab": {
          "base_uri": "https://localhost:8080/",
          "height": 701
        },
        "id": "IAB2Ey5NuGkh",
        "outputId": "e904d60e-a5f6-41a3-b586-32c71c207367"
      },
      "execution_count": 68,
      "outputs": [
        {
          "output_type": "stream",
          "name": "stdout",
          "text": [
            "Epoch 01: Train 2.6711, Val 1.0710\n",
            "Epoch 02: Train 1.9150, Val 0.8210\n",
            "Epoch 03: Train 1.3624, Val 0.6429\n",
            "Epoch 04: Train 0.9742, Val 0.5047\n",
            "Epoch 05: Train 0.7070, Val 0.5297\n",
            "Epoch 06: Train 0.5107, Val 0.5305\n",
            "Epoch 07: Train 0.3802, Val 0.5117\n",
            "Epoch 08: Train 0.2903, Val 0.5447\n"
          ]
        },
        {
          "output_type": "stream",
          "name": "stderr",
          "text": [
            "2025-11-01 14:53:36,452 ignite.handlers.early_stopping.EarlyStopping INFO: EarlyStopping: Stop training\n"
          ]
        },
        {
          "output_type": "stream",
          "name": "stdout",
          "text": [
            "Epoch 09: Train 0.2197, Val 0.5211\n"
          ]
        },
        {
          "output_type": "display_data",
          "data": {
            "text/plain": [
              "<Figure size 800x500 with 1 Axes>"
            ],
            "image/png": "[encoded data removed]"
          },
          "metadata": {}
        },
        {
          "output_type": "stream",
          "name": "stdout",
          "text": [
            "Test set — loss: 0.4256, accuracy: 0.8400\n",
            "Final Test Accuracy: 84.00%\n"
          ]
        }
      ]
    }
  ]
}